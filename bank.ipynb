{
 "cells": [
  {
   "cell_type": "code",
   "execution_count": 1,
   "id": "1cfefb07",
   "metadata": {},
   "outputs": [
    {
     "ename": "ModuleNotFoundError",
     "evalue": "No module named 'main'",
     "output_type": "error",
     "traceback": [
      "\u001b[1;31m---------------------------------------------------------------------------\u001b[0m",
      "\u001b[1;31mModuleNotFoundError\u001b[0m                       Traceback (most recent call last)",
      "Input \u001b[1;32mIn [1]\u001b[0m, in \u001b[0;36m<cell line: 2>\u001b[1;34m()\u001b[0m\n\u001b[0;32m      1\u001b[0m \u001b[38;5;28;01mfrom\u001b[39;00m \u001b[38;5;21;01mtkinter\u001b[39;00m \u001b[38;5;28;01mimport\u001b[39;00m Y\n\u001b[1;32m----> 2\u001b[0m \u001b[38;5;28;01mfrom\u001b[39;00m \u001b[38;5;21;01mmain\u001b[39;00m \u001b[38;5;28;01mimport\u001b[39;00m\u001b[38;5;241m*\u001b[39m\n\u001b[0;32m      4\u001b[0m choice \u001b[38;5;241m=\u001b[39m \u001b[38;5;28minput\u001b[39m(\u001b[38;5;124m\"\u001b[39m\u001b[38;5;124m Do you want proceeded Y/N:\u001b[39m\u001b[38;5;124m\"\u001b[39m)\n\u001b[0;32m      5\u001b[0m \u001b[38;5;28;01mif\u001b[39;00m choice\u001b[38;5;241m.\u001b[39mlower() \u001b[38;5;241m==\u001b[39m \u001b[38;5;124m'\u001b[39m\u001b[38;5;124my\u001b[39m\u001b[38;5;124m'\u001b[39m:\n",
      "\u001b[1;31mModuleNotFoundError\u001b[0m: No module named 'main'"
     ]
    }
   ],
   "source": [
    "from tkinter import Y\n",
    "from main import*\n",
    "\n",
    "choice = input(\" Do you want proceeded Y/N:\")\n",
    "if choice.lower() == 'y':\n",
    "    pin = int(input(\"Enter your pin:\"))\n",
    "    x = Account(pin)\n",
    "    if x.Validate_pin():\n",
    "        print(\"Pin Confirmed!!\")\n",
    "        print(\"Select Account Type\")\n",
    "        print(\"1)Checking Account\")\n",
    "        print(\"2)Saving Account\")\n",
    "        print(\"3)Busniness Account\")\n",
    "        Account_Type = input(\"Please select one of the above:\")\n",
    "        logic_setter=Atm_Logic(\"\")\n",
    "        if Account_Type == \"1\":\n",
    "            logic_setter.CheckingAccount_Functions(pin)\n",
    "        elif Account_Type == \"2\":\n",
    "            logic_setter.SavingAccount_Functions(pin)\n",
    "        elif Account_Type == \"3\":\n",
    "            logic_setter.BusniessAccount_Functions(pin)\n",
    "\n",
    "        else:\n",
    "            print(\"Pin Invalid!! Please Try Again\")"
   ]
  },
  {
   "cell_type": "code",
   "execution_count": null,
   "id": "97d78be4",
   "metadata": {},
   "outputs": [],
   "source": []
  }
 ],
 "metadata": {
  "kernelspec": {
   "display_name": "Python 3 (ipykernel)",
   "language": "python",
   "name": "python3"
  },
  "language_info": {
   "codemirror_mode": {
    "name": "ipython",
    "version": 3
   },
   "file_extension": ".py",
   "mimetype": "text/x-python",
   "name": "python",
   "nbconvert_exporter": "python",
   "pygments_lexer": "ipython3",
   "version": "3.10.6"
  }
 },
 "nbformat": 4,
 "nbformat_minor": 5
}
